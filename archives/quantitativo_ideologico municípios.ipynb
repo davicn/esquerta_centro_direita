{
 "cells": [
  {
   "cell_type": "code",
   "execution_count": 1,
   "metadata": {},
   "outputs": [],
   "source": [
    "import numpy as np \n",
    "import pandas as pd\n",
    "import os\n",
    "import matplotlib.pyplot as plt \n",
    "%matplotlib notebook\n",
    "import seaborn as sns"
   ]
  },
  {
   "cell_type": "code",
   "execution_count": 5,
   "metadata": {},
   "outputs": [
    {
     "output_type": "execute_result",
     "data": {
      "text/plain": "      SIGLA DO PARTIDO        NOME DO PARTIDO  UF  CODIGO DO MUNICIPIO  \\\n0                  DEM             DEMOCRATAS  AC                 1392   \n1                  DEM             DEMOCRATAS  AC                 1538   \n2                  DEM             DEMOCRATAS  AC                 1457   \n3                  DEM             DEMOCRATAS  AC                 1473   \n4                  DEM             DEMOCRATAS  AC                 1007   \n...                ...                    ...  ..                  ...   \n83486             REDE  REDE SUSTENTABILIDADE  TO                93858   \n83487             REDE  REDE SUSTENTABILIDADE  TO                73610   \n83488             REDE  REDE SUSTENTABILIDADE  TO                92193   \n83489             REDE  REDE SUSTENTABILIDADE  TO                73458   \n83490             REDE  REDE SUSTENTABILIDADE  TO                94056   \n\n      NOME DO MUNICIPIO  NUM FILIADOS ESPECTRO POLITICO  \n0            RIO BRANCO          1044                 D  \n1      SENADOR GUIOMARD           255                 D  \n2        SENA MADUREIRA           238                 D  \n3              TARAUACÁ           201                 D  \n4                BUJARI           150                 D  \n...                 ...           ...               ...  \n83486            GURUPI             1                 E  \n83487     BARRA DO OURO             1                 E  \n83488            ANANÁS             1                 E  \n83489          TUPIRAMA             1                 E  \n83490           ITACAJÁ             1                 E  \n\n[83491 rows x 7 columns]",
      "text/html": "<div>\n<style scoped>\n    .dataframe tbody tr th:only-of-type {\n        vertical-align: middle;\n    }\n\n    .dataframe tbody tr th {\n        vertical-align: top;\n    }\n\n    .dataframe thead th {\n        text-align: right;\n    }\n</style>\n<table border=\"1\" class=\"dataframe\">\n  <thead>\n    <tr style=\"text-align: right;\">\n      <th></th>\n      <th>SIGLA DO PARTIDO</th>\n      <th>NOME DO PARTIDO</th>\n      <th>UF</th>\n      <th>CODIGO DO MUNICIPIO</th>\n      <th>NOME DO MUNICIPIO</th>\n      <th>NUM FILIADOS</th>\n      <th>ESPECTRO POLITICO</th>\n    </tr>\n  </thead>\n  <tbody>\n    <tr>\n      <th>0</th>\n      <td>DEM</td>\n      <td>DEMOCRATAS</td>\n      <td>AC</td>\n      <td>1392</td>\n      <td>RIO BRANCO</td>\n      <td>1044</td>\n      <td>D</td>\n    </tr>\n    <tr>\n      <th>1</th>\n      <td>DEM</td>\n      <td>DEMOCRATAS</td>\n      <td>AC</td>\n      <td>1538</td>\n      <td>SENADOR GUIOMARD</td>\n      <td>255</td>\n      <td>D</td>\n    </tr>\n    <tr>\n      <th>2</th>\n      <td>DEM</td>\n      <td>DEMOCRATAS</td>\n      <td>AC</td>\n      <td>1457</td>\n      <td>SENA MADUREIRA</td>\n      <td>238</td>\n      <td>D</td>\n    </tr>\n    <tr>\n      <th>3</th>\n      <td>DEM</td>\n      <td>DEMOCRATAS</td>\n      <td>AC</td>\n      <td>1473</td>\n      <td>TARAUACÁ</td>\n      <td>201</td>\n      <td>D</td>\n    </tr>\n    <tr>\n      <th>4</th>\n      <td>DEM</td>\n      <td>DEMOCRATAS</td>\n      <td>AC</td>\n      <td>1007</td>\n      <td>BUJARI</td>\n      <td>150</td>\n      <td>D</td>\n    </tr>\n    <tr>\n      <th>...</th>\n      <td>...</td>\n      <td>...</td>\n      <td>...</td>\n      <td>...</td>\n      <td>...</td>\n      <td>...</td>\n      <td>...</td>\n    </tr>\n    <tr>\n      <th>83486</th>\n      <td>REDE</td>\n      <td>REDE SUSTENTABILIDADE</td>\n      <td>TO</td>\n      <td>93858</td>\n      <td>GURUPI</td>\n      <td>1</td>\n      <td>E</td>\n    </tr>\n    <tr>\n      <th>83487</th>\n      <td>REDE</td>\n      <td>REDE SUSTENTABILIDADE</td>\n      <td>TO</td>\n      <td>73610</td>\n      <td>BARRA DO OURO</td>\n      <td>1</td>\n      <td>E</td>\n    </tr>\n    <tr>\n      <th>83488</th>\n      <td>REDE</td>\n      <td>REDE SUSTENTABILIDADE</td>\n      <td>TO</td>\n      <td>92193</td>\n      <td>ANANÁS</td>\n      <td>1</td>\n      <td>E</td>\n    </tr>\n    <tr>\n      <th>83489</th>\n      <td>REDE</td>\n      <td>REDE SUSTENTABILIDADE</td>\n      <td>TO</td>\n      <td>73458</td>\n      <td>TUPIRAMA</td>\n      <td>1</td>\n      <td>E</td>\n    </tr>\n    <tr>\n      <th>83490</th>\n      <td>REDE</td>\n      <td>REDE SUSTENTABILIDADE</td>\n      <td>TO</td>\n      <td>94056</td>\n      <td>ITACAJÁ</td>\n      <td>1</td>\n      <td>E</td>\n    </tr>\n  </tbody>\n</table>\n<p>83491 rows × 7 columns</p>\n</div>"
     },
     "metadata": {},
     "execution_count": 5
    }
   ],
   "source": [
    "data = pd.read_csv('municipios_rotulos.csv')\n",
    "data"
   ]
  },
  {
   "cell_type": "code",
   "execution_count": null,
   "metadata": {},
   "outputs": [],
   "source": []
  }
 ],
 "metadata": {
  "language_info": {
   "codemirror_mode": {
    "name": "ipython",
    "version": 3
   },
   "file_extension": ".py",
   "mimetype": "text/x-python",
   "name": "python",
   "nbconvert_exporter": "python",
   "pygments_lexer": "ipython3",
   "version": "3.8.2-final"
  },
  "orig_nbformat": 2,
  "kernelspec": {
   "name": "python38264bitesquertacentrodireitapipenv3290af36679446e987968ecbf78b0cd4",
   "display_name": "Python 3.8.2 64-bit ('esquerta_centro_direita': pipenv)"
  }
 },
 "nbformat": 4,
 "nbformat_minor": 2
}